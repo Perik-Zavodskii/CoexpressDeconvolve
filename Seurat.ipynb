{
 "cells": [
  {
   "cell_type": "markdown",
   "id": "5be5a8e2",
   "metadata": {},
   "source": [
    "# scSpatial Seurat for StarMap"
   ]
  },
  {
   "cell_type": "code",
   "execution_count": null,
   "id": "c9790fe3",
   "metadata": {},
   "outputs": [],
   "source": [
    "# install.packages(\"Seurat\")"
   ]
  },
  {
   "cell_type": "markdown",
   "id": "579fe517-4318-429b-a9a3-c5c2b1016817",
   "metadata": {},
   "source": [
    "## Library import"
   ]
  },
  {
   "cell_type": "code",
   "execution_count": null,
   "id": "fef2b434",
   "metadata": {},
   "outputs": [],
   "source": [
    "library(Seurat)\n",
    "library(ggplot2)\n",
    "library(patchwork)\n",
    "library(dplyr)\n",
    "library(magrittr)\n",
    "\n",
    "library(viridis)\n",
    "\n",
    "set.seed(1)\n",
    "\n",
    "# Multicore CPU usage activation - Future\n",
    "library(future)\n",
    "\n",
    "plan(\"multicore\", workers = 10) \n",
    "# Set RAM Size to 3/4 of total RAM\n",
    "options(future.globals.maxSize = 16000 * 1024^2)\n",
    "\n",
    "future.seed=TRUE # Removes future-generated statistical errors"
   ]
  },
  {
   "cell_type": "markdown",
   "id": "544f16b6-c6b4-4729-a647-5dc042fd43d0",
   "metadata": {},
   "source": [
    "## Load data"
   ]
  },
  {
   "cell_type": "code",
   "execution_count": null,
   "id": "ddcd7f08-52b8-404c-b3fc-2ba174bd15ad",
   "metadata": {},
   "outputs": [],
   "source": [
    "library(data.table)\n",
    "\n",
    "cell_by_gene <- fread(\"cell_by_gene.csv\", data.table = FALSE)\n",
    "cell_metadata <- fread(\"cell_metadata.csv\", data.table = FALSE)\n",
    "\n",
    "# Extract cell barcodes and gene names\n",
    "cell_barcodes <- cell_by_gene[, 1]  # First column contains cell barcodes\n",
    "gene_names <- colnames(cell_by_gene)[-1]  # Gene names are column names\n",
    "\n",
    "# Ensure unique gene names\n",
    "gene_names <- make.unique(gene_names)  \n",
    "\n",
    "# Transpose matrix\n",
    "cell_by_gene <- t(cell_by_gene[, -1])  # Remove first column (cell barcodes) before transposing\n",
    "\n",
    "# Assign correct row & col names\n",
    "rownames(cell_by_gene) <- gene_names  # Genes as row names\n",
    "colnames(cell_by_gene) <- make.unique(cell_barcodes)  # Ensure unique cell names\n",
    "\n",
    "# Convert to matrix\n",
    "cell_by_gene <- as.matrix(cell_by_gene)\n",
    "\n",
    "# Create Seurat object\n",
    "Seurat <- CreateSeuratObject(counts = cell_by_gene)\n",
    "\n",
    "# Fix metadata cell names\n",
    "cell_metadata$V1 <- gsub(\"_\\\\d+$\", \"\", cell_metadata$V1)  # Remove suffixes like \"_10\" if needed\n",
    "rownames(cell_metadata) <- make.unique(cell_metadata$V1)  # Ensure unique rownames\n",
    "\n",
    "# Remove first column from metadata\n",
    "cell_metadata <- cell_metadata[, -1]\n",
    "\n",
    "# Add metadata\n",
    "Seurat <- AddMetaData(Seurat, metadata = cell_metadata)\n",
    "\n",
    "Seurat"
   ]
  },
  {
   "cell_type": "code",
   "execution_count": null,
   "id": "2060efec-d04c-4876-8f13-1ce9119c4cca",
   "metadata": {},
   "outputs": [],
   "source": [
    "VlnPlot(Seurat, features = \"nFeature_RNA\")\n",
    "VlnPlot(Seurat, features = \"nCount_RNA\")"
   ]
  },
  {
   "cell_type": "code",
   "execution_count": null,
   "id": "34dafebd-cc22-48df-8b44-d55818c7fe5c",
   "metadata": {},
   "outputs": [],
   "source": [
    "Seurat <- NormalizeData(Seurat, normalization.method = \"LogNormalize\", scale.factor = 10000)\n",
    "all.genes <- rownames(Seurat)\n",
    "Seurat <- ScaleData(Seurat, features = all.genes)\n",
    "\n",
    "Seurat"
   ]
  },
  {
   "cell_type": "code",
   "execution_count": null,
   "id": "ba213f96-01f4-4dbc-89a7-8b40b5a61082",
   "metadata": {},
   "outputs": [],
   "source": [
    "distance_clusters <- read.csv(\"cluster_info.csv\")\n",
    "Seurat <- AddMetaData(Seurat, metadata = distance_clusters$Cluster, col.name = \"CellType\")\n",
    "Seurat <- SetIdent(Seurat, value = \"CellType\")\n",
    "\n",
    "Seurat"
   ]
  },
  {
   "cell_type": "code",
   "execution_count": null,
   "id": "f412c175-4328-4b01-9a87-e4dc5e267e3d",
   "metadata": {},
   "outputs": [],
   "source": [
    "head(Seurat@meta.data)"
   ]
  },
  {
   "cell_type": "markdown",
   "id": "5fa0c198-86b4-4bcf-8693-f7ea5ba6c862",
   "metadata": {},
   "source": [
    "## Spatial Cluster Plot"
   ]
  },
  {
   "cell_type": "code",
   "execution_count": null,
   "id": "e96ebc46-3c26-451a-99b6-6f6ec92e6b59",
   "metadata": {},
   "outputs": [],
   "source": [
    "Seurat@meta.data$center_x <- as.numeric(Seurat@meta.data$center_x)\n",
    "Seurat@meta.data$center_y <- as.numeric(Seurat@meta.data$center_y)\n",
    "\n",
    "# Plot clusters with black background\n",
    "ggplot(Seurat@meta.data, aes(x = center_x, y = center_y, color = as.factor(CellType))) +\n",
    "  geom_point(size = 1) +\n",
    "  scale_color_manual(values = rainbow(length(unique(Seurat$CellType)))) + # Custom colors\n",
    "  theme_void() +  # Remove axis\n",
    "  theme(panel.background = element_rect(fill = \"black\", color = \"black\"), \n",
    "        plot.background = element_rect(fill = \"black\"),\n",
    "        legend.text = element_text(color = \"white\"),\n",
    "        legend.title = element_text(color = \"white\")) +\n",
    "  labs(title = \"Spatial Plot of Clusters\", color = \"CellType\")\n",
    "\n",
    "ggsave(\n",
    "  \"Spatial Cluster Plot.jpeg\",\n",
    "  plot = last_plot(),\n",
    "  device = \"jpeg\",\n",
    "#   path = NULL,\n",
    "#   scale = 1,\n",
    "#   1 plot == 10 cm in each dimention\n",
    "  width = 42,\n",
    "  height = 40,\n",
    "  units = \"cm\",\n",
    "  dpi = 600,\n",
    "  limitsize = TRUE,\n",
    "#   bg = NULL,\n",
    ")"
   ]
  },
  {
   "cell_type": "markdown",
   "id": "633b54f8-f850-4825-a955-6969f699df83",
   "metadata": {},
   "source": [
    "## Spatial Feaute Plot"
   ]
  },
  {
   "cell_type": "code",
   "execution_count": null,
   "id": "0a3d2990-5091-45b1-b93f-b57c4e3a44e9",
   "metadata": {},
   "outputs": [],
   "source": [
    "# Define the genes you want to plot\n",
    "genes <- c(\"TNFRSF1B\", \"IGKC\", \"TRBC1\", \"COL3A1\")  # Replace with actual gene names\n",
    "\n",
    "# Ensure spatial coordinates are numeric\n",
    "Seurat@meta.data$center_x <- as.numeric(Seurat@meta.data$center_x)\n",
    "Seurat@meta.data$center_y <- as.numeric(Seurat@meta.data$center_y)\n",
    "\n",
    "# Convert Seurat object to a data frame for plotting\n",
    "expression_data <- Seurat@meta.data\n",
    "for (gene in genes) {\n",
    "  expression_data[[gene]] <- as.numeric(FetchData(Seurat, vars = gene)[,1])  # Ensure numeric\n",
    "}\n",
    "\n",
    "# Generate individual gene expression plots\n",
    "plot_list <- lapply(genes, function(gene) {\n",
    "  ggplot(expression_data, aes(x = center_x, y = center_y, color = !!sym(gene))) +\n",
    "    geom_point(size = 0.25) +\n",
    "    scale_color_viridis_c(option = \"viridis\") +  # Use a continuous color scale\n",
    "    theme_void() +\n",
    "    theme(\n",
    "      panel.background = element_rect(fill = \"black\", color = \"black\"), \n",
    "      plot.background = element_rect(fill = \"black\"),\n",
    "      legend.text = element_text(color = \"white\"),\n",
    "      legend.title = element_text(color = \"white\"),\n",
    "      plot.title = element_text(family = \"Helvetica\", face = \"bold\", color = \"white\", hjust = 0.5, size = 18), # Title settings\n",
    "      plot.margin = margin(0, 0, 0, 0)  # Remove extra margins\n",
    "    ) +\n",
    "    labs(title = gene, color = \"\")  # Title = Gene name\n",
    "})\n",
    "\n",
    "# Arrange plots in a 2x2 grid and remove the outer border\n",
    "final_plot <- wrap_plots(plot_list, ncol = 2) +\n",
    "  plot_annotation(theme = theme(plot.background = element_rect(fill = \"black\", color = NA)))  # Remove outer white border\n",
    "\n",
    "ggsave( \n",
    "  \"Spatial Feaute Plot.jpeg\",\n",
    "  plot = last_plot(),\n",
    "  device = \"jpeg\",\n",
    "#   path = NULL,\n",
    "#   scale = 1,\n",
    "#   1 plot == 10 cm in each dimention\n",
    "  width = 44,\n",
    "  height = 40,\n",
    "  units = \"cm\",\n",
    "  dpi = 600,\n",
    "  limitsize = TRUE,\n",
    "#   bg = NULL,\n",
    ")"
   ]
  },
  {
   "cell_type": "markdown",
   "id": "9c7bcd61-9d56-4cd6-b2b7-f66cfa376345",
   "metadata": {},
   "source": [
    "## Spatial Subcluster Plot"
   ]
  },
  {
   "cell_type": "code",
   "execution_count": null,
   "id": "02eb7342-a4fd-47d6-b487-c54c2932c434",
   "metadata": {},
   "outputs": [],
   "source": [
    "# Convert spatial coordinates to numeric\n",
    "Seurat@meta.data$center_x <- as.numeric(Seurat@meta.data$center_x)\n",
    "Seurat@meta.data$center_y <- as.numeric(Seurat@meta.data$center_y)\n",
    "\n",
    "# Filter for clusters 29, 3, and 6\n",
    "subset_meta <- Seurat@meta.data[Seurat@meta.data$CellType %in% c(29, 20, 15), ]\n",
    "\n",
    "# Define custom colors for selected clusters\n",
    "custom_colors <- c(\"29\" = \"purple\", \"20\" = \"green\", \"15\" = \"yellow\")  # Customize as needed\n",
    "\n",
    "# Plot clusters with black background\n",
    "ggplot(subset_meta, aes(x = center_x, y = center_y, color = as.factor(CellType))) +\n",
    "  geom_point(size = 1) +\n",
    "  scale_color_manual(values = custom_colors) + # Use custom colors\n",
    "  theme_void() +  # Remove axis\n",
    "  theme(panel.background = element_rect(fill = \"black\", color = \"black\"), \n",
    "        plot.background = element_rect(fill = \"black\"),\n",
    "        legend.text = element_text(color = \"white\"),\n",
    "        legend.title = element_text(color = \"white\")) +\n",
    "  labs(title = \"Spatial Plot of Selected Clusters\", color = \"Cluster\")\n",
    "\n",
    "ggsave(\n",
    "  \"Spatial SubCluster Plot.jpeg\",\n",
    "  plot = last_plot(),\n",
    "  device = \"jpeg\",\n",
    "#   path = NULL,\n",
    "#   scale = 1,\n",
    "#   1 plot == 10 cm in each dimention\n",
    "  width = 42,\n",
    "  height = 40,\n",
    "  units = \"cm\",\n",
    "  dpi = 600,\n",
    "  limitsize = TRUE,\n",
    "#   bg = NULL,\n",
    ")"
   ]
  },
  {
   "cell_type": "markdown",
   "id": "bfd34089-7266-4d3d-ab5e-16252ad55bf8",
   "metadata": {},
   "source": [
    "## FOV selection"
   ]
  },
  {
   "cell_type": "code",
   "execution_count": null,
   "id": "2fafa149-0f51-4bd4-a5e3-e15265ad40fd",
   "metadata": {},
   "outputs": [],
   "source": [
    "# Define FOV boundaries\n",
    "x_min <- 3000\n",
    "x_max <- 8000\n",
    "y_min <- 7500\n",
    "y_max <- 12500\n",
    "\n",
    "# Filter cells within the FOV\n",
    "subset_cells <- rownames(Seurat@meta.data[\n",
    "  Seurat@meta.data$center_x >= x_min & \n",
    "  Seurat@meta.data$center_x <= x_max & \n",
    "  Seurat@meta.data$center_y >= y_min & \n",
    "  Seurat@meta.data$center_y <= y_max, \n",
    "])\n",
    "\n",
    "# Subset Seurat object\n",
    "Seurat_FOV <- subset(Seurat, cells = subset_cells)\n",
    "\n",
    "# Check dimensions of the new object\n",
    "print(dim(Seurat_FOV))"
   ]
  },
  {
   "cell_type": "markdown",
   "id": "3eb1f765-a653-4760-8ccb-853ca29ce34c",
   "metadata": {},
   "source": [
    "## FOV Spatial Cluster Plot"
   ]
  },
  {
   "cell_type": "code",
   "execution_count": null,
   "id": "c48817ec-2569-4fd2-8e18-466ff7a98f01",
   "metadata": {},
   "outputs": [],
   "source": [
    "Seurat_FOV@meta.data$center_x <- as.numeric(Seurat_FOV@meta.data$center_x)\n",
    "Seurat_FOV@meta.data$center_y <- as.numeric(Seurat_FOV@meta.data$center_y)\n",
    "\n",
    "# Plot clusters with black background\n",
    "ggplot(Seurat_FOV@meta.data, aes(x = center_x, y = center_y, color = as.factor(CellType))) +\n",
    "  geom_point(size = 2) +\n",
    "  scale_color_manual(values = rainbow(length(unique(Seurat_FOV$CellType)))) + # Custom colors\n",
    "  theme_void() +  # Remove axis\n",
    "  theme(panel.background = element_rect(fill = \"black\", color = \"black\"), \n",
    "        plot.background = element_rect(fill = \"black\"),\n",
    "        legend.text = element_text(color = \"white\"),\n",
    "        legend.title = element_text(color = \"white\")) +\n",
    "  labs(title = \"Spatial Plot of Clusters\", color = \"CellType\")\n",
    "\n",
    "ggsave(\n",
    "  \"Spatial FOV Cluster Plot.jpeg\",\n",
    "  plot = last_plot(),\n",
    "  device = \"jpeg\",\n",
    "#   path = NULL,\n",
    "#   scale = 1,\n",
    "#   1 plot == 10 cm in each dimention\n",
    "  width = 42,\n",
    "  height = 40,\n",
    "  units = \"cm\",\n",
    "  dpi = 600,\n",
    "  limitsize = TRUE,\n",
    "#   bg = NULL,\n",
    ")"
   ]
  },
  {
   "cell_type": "markdown",
   "id": "8d145cbd-531d-46b1-9947-d0391bf0a3d7",
   "metadata": {},
   "source": [
    "## Rename Clusters "
   ]
  },
  {
   "cell_type": "code",
   "execution_count": null,
   "id": "aacfb4df-38b8-48d8-a1cf-d57f9b7e42e6",
   "metadata": {},
   "outputs": [],
   "source": [
    "levels(Seurat) <- c('1','2','3','4','5','6','7','8','9','10',\n",
    "                    '11','12','13','14','15','16','17','18','19','20',\n",
    "                   '21','22','23','24','25','26','27','28','29','30','31')\n",
    "\n",
    "new.cluster.ids <- c('1','2','3','4','5','6','7','8','9','10',\n",
    "                    '11','12','13','14','15','16','17','18','19','20',\n",
    "                   '21','22','23','24','25','26','27','28','29','30','31')\n",
    "\n",
    "names(new.cluster.ids) <- levels(Seurat)\n",
    "\n",
    "Seurat <- RenameIdents(Seurat, new.cluster.ids)"
   ]
  },
  {
   "cell_type": "markdown",
   "id": "6d853c2c-0370-4003-9e8c-89d2b0b1ac5e",
   "metadata": {},
   "source": [
    "## Perform DGE"
   ]
  },
  {
   "cell_type": "code",
   "execution_count": null,
   "id": "00ae5bc0-d8d3-40a5-868b-b621c1af5b24",
   "metadata": {},
   "outputs": [],
   "source": [
    "deg0 <- FindMarkers(Seurat, ident.1 = '29',ident.2 = '1', only.pos = FALSE, logfc.threshold = 1., min.pct = 0)\n",
    "deg0 <- deg0[order(deg0$avg_log2FC,decreasing=TRUE),]\n",
    "head(deg0)"
   ]
  },
  {
   "cell_type": "markdown",
   "id": "4ccb9118-6c25-4e15-b3a8-02ea3a83adee",
   "metadata": {},
   "source": [
    "## Dot plot of the distance cluster genes"
   ]
  },
  {
   "cell_type": "code",
   "execution_count": null,
   "id": "76b50789-a34c-4e50-9413-71a3f5dda039",
   "metadata": {},
   "outputs": [],
   "source": [
    "cluster_features = c('SLC35E2B', 'TNFRSF25', 'H6PD',\n",
    "                     'ARHGEF10L', 'KPNA6', 'PPT1', \n",
    "                     'MIB2', 'CDK11B', 'FAAP20',\n",
    "                     'CD3E','CD3D', 'TRAC', 'TRBC1', 'TRBC2', \n",
    "                     'CCN1', 'DPT', 'PDLIM3',\n",
    "                     'PLA2G2A', 'ACKR1', 'PRELP',\n",
    "                     'COL8A2', 'PODN', 'PTGER3',\n",
    "                     'MXRA8', 'MEGF6', 'ID3',\n",
    "                     'PANK4', 'TNFRSF14', 'PTPRU',\n",
    "                     'AQP1', 'RAMP3', 'PODXL',\n",
    "                     'TNFRSF1B', 'DHRS3', 'ALPL', \n",
    "                     'HSPB7', 'S100A1', 'ATP1A2',\n",
    "                     'KIF1B', 'SYNC', 'GADD45A',\n",
    "                     'SLC2A5', 'PADI2', 'TCEA3',\n",
    "                     'COL3A1', 'FN1', 'COL6A3', 'ACTB','CD74', \n",
    "                     'ENO1', 'MICOS10', 'NBL1',\n",
    "                     'AGRN', 'CTNNBIP1', 'MFAP2', \n",
    "                     'INTS11', 'CCNL2', 'SSU72',\n",
    "                     'ICMT', 'ATP5IF1', 'MAP7D1',\n",
    "                     'IGKC','IGLC1', 'IGKV4-1','S100A8','S100A9', \n",
    "                     'NADK', 'NPHP4', 'NOL9', \n",
    "                     'PRKCZ', 'PER3', 'UBE4B', \n",
    "                     'UBE2J2', 'ACAP3', 'VWA1', \n",
    "                     'CDC20', 'HIST2H2AB', 'TACC3',\n",
    "                     'NOC2L', 'B3GALT6', 'AURKAIP1',\n",
    "                     'IFI44L', 'IFI44', 'GBP5',\n",
    "                     'HES4', 'CPTP', 'UBR4',\n",
    "                     'LCE3E', 'LCE3D', 'IVL', \n",
    "                     'GRHL3', 'PDZK1IP1', 'CRCT1',\n",
    "                     'DVL1', 'AJAP1', 'CASZ1', \n",
    "                     'PLCH2', 'TPRG1L', 'GPR153'\n",
    "                     )\n",
    "\n",
    "DotPlot(Seurat, features = cluster_features) + RotatedAxis() + scale_colour_viridis() +DarkTheme()\n",
    "\n",
    "# Save the last plot\n",
    "\n",
    "ggsave(\n",
    "  \"Dot plot.jpeg\",\n",
    "  plot = last_plot(),\n",
    "  device = \"jpeg\",\n",
    "#   path = NULL,\n",
    "#   scale = 1,\n",
    "#   1 plot == 10 cm in each dimention\n",
    "  width = 60,\n",
    "  height = 25,\n",
    "  units = \"cm\",\n",
    "  dpi = 600,\n",
    "  limitsize = TRUE,\n",
    "#   bg = NULL,\n",
    ")"
   ]
  },
  {
   "cell_type": "markdown",
   "id": "bae8426b-9623-4ecd-8249-70154f472ebf",
   "metadata": {},
   "source": [
    "## Cell cluster percentage stacked bar plot"
   ]
  },
  {
   "cell_type": "code",
   "execution_count": null,
   "id": "3b67d593-c684-45f2-a6b4-7440f0b0339b",
   "metadata": {},
   "outputs": [],
   "source": [
    "cluster_counts <- as.data.frame(table(Seurat@meta.data$CellType))\n",
    "colnames(cluster_counts) <- c(\"Cluster\", \"CellCount\")\n",
    "cluster_counts$Percentage <- (cluster_counts$CellCount / sum(cluster_counts$CellCount)) * 100\n",
    "\n",
    "# Define custom colors (change if needed)\n",
    "custom_colors <- rainbow(length(unique(cluster_counts$Cluster)))\n",
    "\n",
    "# Create the stacked bar plot with percentages\n",
    "ggplot(cluster_counts, aes(x = \"\", y = Percentage, fill = as.factor(Cluster))) +\n",
    "  geom_bar(stat = \"identity\", width = 1) +\n",
    "  scale_fill_manual(values = custom_colors) +  # Use custom colors\n",
    "  theme_dark() +  # Apply dark theme\n",
    "  labs(title = \"Cluster Distribution (Percentage)\", y = \"Percentage of Cells\", fill = \"Cluster\") +\n",
    "  theme(\n",
    "    panel.background = element_rect(fill = \"black\", color = NA),   # Black background\n",
    "    plot.background = element_rect(fill = \"black\", color = NA),    # Black plot area\n",
    "    panel.grid.major = element_line(color = \"gray30\"),  # Dark gray grid\n",
    "    panel.grid.minor = element_blank(),\n",
    "    axis.text = element_text(color = \"white\"),   # White axis text\n",
    "    axis.title = element_text(color = \"white\"),  # White axis title\n",
    "    legend.background = element_rect(fill = \"black\"),  # Dark legend\n",
    "    legend.text = element_text(color = \"white\"),\n",
    "    legend.title = element_text(color = \"white\")\n",
    "  ) +\n",
    "  scale_y_continuous(labels = scales::percent_format(scale = 1))  # Show percentages on y-axis\n",
    "\n",
    "ggsave(\n",
    "  \"Cell Stacked Bar Plot.jpeg\",\n",
    "  plot = last_plot(),\n",
    "  device = \"jpeg\",\n",
    "#   path = NULL,\n",
    "#   scale = 1,\n",
    "#   1 plot == 10 cm in each dimention\n",
    "  width = 6,\n",
    "  height = 40,\n",
    "  units = \"cm\",\n",
    "  dpi = 600,\n",
    "  limitsize = TRUE,\n",
    "#   bg = NULL,\n",
    ")"
   ]
  },
  {
   "cell_type": "markdown",
   "id": "49e74f2f-89bb-45c1-bfcb-3bcf07d83b21",
   "metadata": {},
   "source": [
    "# Neighbourhood analysis"
   ]
  },
  {
   "cell_type": "code",
   "execution_count": null,
   "id": "85002323-58df-441d-b3ff-a5fb4321e956",
   "metadata": {},
   "outputs": [],
   "source": [
    "Seurat_FOV@meta.data"
   ]
  },
  {
   "cell_type": "code",
   "execution_count": null,
   "id": "ee01ef93-862e-45d1-9676-fd7f8bccc2d1",
   "metadata": {},
   "outputs": [],
   "source": [
    "# Calculate cell cluster distances\n",
    "\n",
    "library(ComplexHeatmap)\n",
    "library(circlize)\n",
    "\n",
    "# Extract spatial coordinates and CellType\n",
    "df <- Seurat@meta.data %>%\n",
    "  select(center_x, center_y, CellType)\n",
    "\n",
    "# Define chunk size\n",
    "chunk_size <- 1000  # Adjust based on available RAM\n",
    "num_chunks <- ceiling(nrow(df) / chunk_size)\n",
    "\n",
    "# Create an empty distance matrix for CellTypes\n",
    "celltypes <- unique(df$CellType)\n",
    "celltype_dist <- matrix(NA, length(celltypes), length(celltypes), dimnames = list(celltypes, celltypes))\n",
    "\n",
    "# Function to compute pairwise distances for a chunk\n",
    "compute_chunk_distances <- function(chunk) {\n",
    "  dist_mat <- as.matrix(dist(chunk[, c(\"center_x\", \"center_y\")]))  # Euclidean distance\n",
    "  return(dist_mat)\n",
    "}\n",
    "\n",
    "# Process in chunks\n",
    "for (i in seq_len(num_chunks)) {\n",
    "  cat(\"Processing chunk\", i, \"of\", num_chunks, \"\\n\")\n",
    "  \n",
    "  # Get chunk of data\n",
    "  chunk <- df[((i - 1) * chunk_size + 1):min(i * chunk_size, nrow(df)), ]\n",
    "  \n",
    "  # Compute pairwise distances\n",
    "  dist_chunk <- compute_chunk_distances(chunk)\n",
    "  \n",
    "  # Update the CellType distance matrix (average per CellType)\n",
    "  for (ct1 in unique(chunk$CellType)) {\n",
    "    for (ct2 in unique(chunk$CellType)) {\n",
    "      if (ct1 != ct2) {\n",
    "        dists <- dist_chunk[chunk$CellType == ct1, chunk$CellType == ct2]\n",
    "        celltype_dist[ct1, ct2] <- mean(dists, na.rm = TRUE)  # Average distance\n",
    "      }\n",
    "    }\n",
    "  }\n",
    "}\n",
    "\n",
    "# Convert distance to similarity (1 - normalized distance)\n",
    "celltype_similarity <- 1 - (celltype_dist / max(celltype_dist, na.rm = TRUE))"
   ]
  },
  {
   "cell_type": "code",
   "execution_count": null,
   "id": "c4fb3d20-f251-4a7f-82d8-f1c548014cba",
   "metadata": {},
   "outputs": [],
   "source": [
    "# Create a heatmap with hierarchical clustering\n",
    "\n",
    "col_fun <- colorRamp2(c(0, 0.5, 1), c(\"blue\", \"white\", \"red\"))\n",
    "\n",
    "jpeg(\"CellType Neighbourhood Heatmap.jpeg\", width = 4750, height = 4000, res = 600)\n",
    "\n",
    "Heatmap(as.matrix(celltype_similarity),\n",
    "        name = \"Co-localization\",\n",
    "        col = col_fun,  # Apply the corrected colormap\n",
    "        # cluster_rows = TRUE, \n",
    "        # cluster_columns = TRUE,\n",
    "        show_heatmap_legend = TRUE)  # Ensure legend is displayed\n",
    "\n",
    "dev.off()"
   ]
  },
  {
   "cell_type": "code",
   "execution_count": null,
   "id": "3c1741aa-b2b0-49e8-85b0-6efc7fa05d22",
   "metadata": {},
   "outputs": [],
   "source": [
    "# Subset for co-localized cell types\n",
    "Seurat_co_localized <- subset(Seurat, subset = CellType %in% c('15','16','26','24','11','10','4','12','27','21','29','17'))\n",
    "Seurat_co_localized"
   ]
  },
  {
   "cell_type": "code",
   "execution_count": null,
   "id": "8fd54a5a-dc05-41cd-a408-635a63758a86",
   "metadata": {},
   "outputs": [],
   "source": [
    "Seurat_co_localized@meta.data$center_x <- as.numeric(Seurat_co_localized@meta.data$center_x)\n",
    "Seurat_co_localized@meta.data$center_y <- as.numeric(Seurat_co_localized@meta.data$center_y)\n",
    "\n",
    "# Plot clusters with black background\n",
    "ggplot(Seurat_co_localized@meta.data, aes(x = center_x, y = center_y, color = as.factor(CellType))) +\n",
    "  geom_point(size = 2) +\n",
    "  scale_color_manual(values = rainbow(length(unique(Seurat_co_localized$CellType)))) + # Custom colors\n",
    "  theme_void() +  # Remove axis\n",
    "  theme(panel.background = element_rect(fill = \"black\", color = \"black\"), \n",
    "        plot.background = element_rect(fill = \"black\"),\n",
    "        legend.text = element_text(color = \"white\"),\n",
    "        legend.title = element_text(color = \"white\")) +\n",
    "  labs(title = \"Spatial Plot of Clusters\", color = \"CellType\")\n",
    "\n",
    "ggsave(\n",
    "  \"Spatial Co-localized Clusters' Plot.jpeg\",\n",
    "  plot = last_plot(),\n",
    "  device = \"jpeg\",\n",
    "#   path = NULL,\n",
    "#   scale = 1,\n",
    "#   1 plot == 10 cm in each dimention\n",
    "  width = 41,\n",
    "  height = 40,\n",
    "  units = \"cm\",\n",
    "  dpi = 600,\n",
    "  limitsize = TRUE,\n",
    "#   bg = NULL,\n",
    ")"
   ]
  },
  {
   "cell_type": "markdown",
   "id": "ab454f7f-417a-4a33-abbd-7107e79cb12a",
   "metadata": {},
   "source": [
    "# Cell-Cell Communication Analysis of the co-localized cell clusters"
   ]
  },
  {
   "cell_type": "code",
   "execution_count": null,
   "id": "2c053e1f-6a6b-4c34-99c7-12e537d6185c",
   "metadata": {},
   "outputs": [],
   "source": [
    "library(CellChat)\n",
    "library(patchwork)\n",
    "library(ggalluvial)\n",
    "library(igraph)"
   ]
  },
  {
   "cell_type": "code",
   "execution_count": null,
   "id": "1c1d9c69-0c6d-4091-8486-902d825034ed",
   "metadata": {},
   "outputs": [],
   "source": [
    "CellChat <- createCellChat(Seurat_co_localized,\n",
    "#                               group.by = 'Sample',\n",
    "                              # assay = 'SCT',\n",
    "                              do.sparse = T)\n",
    "\n",
    "CellChatDB <- CellChatDB.human\n",
    "\n",
    "CellChatDB.use <- CellChatDB\n",
    "CellChat@DB <- CellChatDB.use\n",
    "CellChat <- subsetData(CellChat)\n",
    "CellChat <- identifyOverExpressedGenes(CellChat)\n",
    "CellChat <- identifyOverExpressedInteractions(CellChat)\n",
    "\n",
    "CellChat <- projectData(CellChat, PPI.human)\n",
    "\n",
    "CellChat <- computeCommunProb(CellChat)\n",
    "\n",
    "CellChat <- computeCommunProbPathway(CellChat)\n",
    "\n",
    "CellChat <- aggregateNet(CellChat)\n",
    "\n",
    "library(NMF)\n",
    "library(ggalluvial)"
   ]
  },
  {
   "cell_type": "code",
   "execution_count": null,
   "id": "65e6b36a-ea93-4afc-9a07-bb3c404341fd",
   "metadata": {},
   "outputs": [],
   "source": [
    "CellChat@netP$pathways"
   ]
  },
  {
   "cell_type": "code",
   "execution_count": null,
   "id": "7a865d2a-ba73-423e-ae36-5382726fd857",
   "metadata": {},
   "outputs": [],
   "source": [
    "selectK(CellChat, pattern = \"outgoing\")"
   ]
  },
  {
   "cell_type": "code",
   "execution_count": null,
   "id": "bfc23d59-83e3-46d5-92f7-d623692521d2",
   "metadata": {},
   "outputs": [],
   "source": [
    "selectK(CellChat, pattern = \"incoming\")"
   ]
  },
  {
   "cell_type": "code",
   "execution_count": null,
   "id": "4a7cf64f-2b6a-4402-9bcb-24be5eba4db0",
   "metadata": {},
   "outputs": [],
   "source": [
    "nPatterns = 3\n",
    "CellChat <- identifyCommunicationPatterns(CellChat, \n",
    "                                          pattern = \"outgoing\", \n",
    "                                          k = nPatterns)\n",
    "nPatterns = 2\n",
    "CellChat <- identifyCommunicationPatterns(CellChat, \n",
    "                                          pattern = \"incoming\", \n",
    "                                          k = nPatterns)"
   ]
  },
  {
   "cell_type": "code",
   "execution_count": null,
   "id": "9225d1d1-8406-46ea-badb-e93d0303bdc5",
   "metadata": {},
   "outputs": [],
   "source": [
    "# river plot\n",
    "netAnalysis_river(CellChat, pattern = \"outgoing\")\n",
    "\n",
    "ggsave(\n",
    "  \"River Plot Outgoing.jpeg\",\n",
    "  plot = last_plot(),\n",
    "  device = \"jpeg\",\n",
    "#   path = NULL,\n",
    "#   scale = 1,\n",
    "#   1 plot == 10 cm in each dimention\n",
    "  width = 20,\n",
    "  height = 20,\n",
    "  units = \"cm\",\n",
    "  dpi = 600,\n",
    "  limitsize = TRUE,\n",
    "#   bg = NULL,\n",
    ")"
   ]
  },
  {
   "cell_type": "code",
   "execution_count": null,
   "id": "30c27e96-e11b-4c3c-bbd2-510a5c05876c",
   "metadata": {},
   "outputs": [],
   "source": [
    "# river plot\n",
    "netAnalysis_river(CellChat, pattern = \"incoming\")\n",
    "\n",
    "ggsave(\n",
    "  \"River Plot Incoming.jpeg\",\n",
    "  plot = last_plot(),\n",
    "  device = \"jpeg\",\n",
    "#   path = NULL,\n",
    "#   scale = 1,\n",
    "#   1 plot == 10 cm in each dimention\n",
    "  width = 20,\n",
    "  height = 20,\n",
    "  units = \"cm\",\n",
    "  dpi = 600,\n",
    "  limitsize = TRUE,\n",
    "#   bg = NULL,\n",
    ")"
   ]
  },
  {
   "cell_type": "code",
   "execution_count": null,
   "id": "19aca8bb-9b9d-42f9-acc9-8e5f9728d506",
   "metadata": {},
   "outputs": [],
   "source": [
    "# Dot plot of outgoing communications\n",
    "netAnalysis_dot(CellChat, pattern = \"outgoing\")\n",
    "\n",
    "ggsave(\n",
    "  \"Dot Plot Outgoing.jpeg\",\n",
    "  plot = last_plot(),\n",
    "  device = \"jpeg\",\n",
    "#   path = NULL,\n",
    "#   scale = 1,\n",
    "#   1 plot == 10 cm in each dimention\n",
    "  width = 22,\n",
    "  height = 14,\n",
    "  units = \"cm\",\n",
    "  dpi = 600,\n",
    "  limitsize = TRUE,\n",
    "#   bg = NULL,\n",
    ")"
   ]
  },
  {
   "cell_type": "code",
   "execution_count": null,
   "id": "45e4ee9a-2587-4f41-8bcf-e27baac02149",
   "metadata": {},
   "outputs": [],
   "source": [
    "# Dot plot of incoming communications\n",
    "netAnalysis_dot(CellChat, pattern = \"incoming\")\n",
    "\n",
    "ggsave(\n",
    "  \"Dot Plot Incoming.jpeg\",\n",
    "  plot = last_plot(),\n",
    "  device = \"jpeg\",\n",
    "#   path = NULL,\n",
    "#   scale = 1,\n",
    "#   1 plot == 10 cm in each dimention\n",
    "  width = 22,\n",
    "  height = 14,\n",
    "  units = \"cm\",\n",
    "  dpi = 600,\n",
    "  limitsize = TRUE,\n",
    "#   bg = NULL,\n",
    ")"
   ]
  }
 ],
 "metadata": {
  "kernelspec": {
   "display_name": "R",
   "language": "R",
   "name": "ir"
  },
  "language_info": {
   "codemirror_mode": "r",
   "file_extension": ".r",
   "mimetype": "text/x-r-source",
   "name": "R",
   "pygments_lexer": "r",
   "version": "4.3.2"
  }
 },
 "nbformat": 4,
 "nbformat_minor": 5
}
